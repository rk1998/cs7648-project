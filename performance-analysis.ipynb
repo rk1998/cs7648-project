{
 "cells": [
  {
   "cell_type": "code",
   "execution_count": 1,
   "metadata": {},
   "outputs": [],
   "source": [
    "import numpy as np\n",
    "import pandas as pd\n",
    "import glob\n",
    "from os import path\n",
    "import re\n",
    "import seaborn as sns\n",
    "import altair as alt\n",
    "import matplotlib.pyplot as plt\n",
    "\n",
    "sns.set_style(\"white\")"
   ]
  },
  {
   "cell_type": "code",
   "execution_count": 2,
   "metadata": {},
   "outputs": [
    {
     "output_type": "stream",
     "name": "stdout",
     "text": [
      "skipping improperly formatted file: results_ablation\\results_ablation.csv\n"
     ]
    }
   ],
   "source": [
    "# process results into csv\n",
    "results = []\n",
    "pattern = re.compile(r\"(?P<func>(entropy_score|least_confidence|random_score))_(?P<seed_size>\\d+)_(?P<active_size>\\d+)\")\n",
    "for fname in glob.glob(\"results_ablation/**\"):\n",
    "    match = re.search(pattern, fname)\n",
    "    if match:\n",
    "        results.append({\n",
    "            \"acquisition_function\": match.group(\"func\"),\n",
    "            \"seed_size\": match.group(\"seed_size\"),\n",
    "            \"active_batch_size\": match.group(\"active_size\"),\n",
    "            \"accuracy\": np.load(fname)\n",
    "        })\n",
    "    else:\n",
    "        print(f\"skipping improperly formatted file: {fname}\")\n",
    "results = pd.DataFrame(results)\n",
    "results.to_csv(\"results_ablation/results_ablation.csv\", index=False)    "
   ]
  },
  {
   "cell_type": "code",
   "execution_count": 3,
   "metadata": {},
   "outputs": [
    {
     "output_type": "execute_result",
     "data": {
      "text/plain": [
       "acquisition_function    object\n",
       "seed_size               object\n",
       "active_batch_size       object\n",
       "accuracy                object\n",
       "dtype: object"
      ]
     },
     "metadata": {},
     "execution_count": 3
    }
   ],
   "source": [
    "results.dtypes"
   ]
  },
  {
   "cell_type": "code",
   "execution_count": 4,
   "metadata": {},
   "outputs": [],
   "source": [
    "results[\"final_accuracy\"] = results[\"accuracy\"].apply(lambda l: l[-1])\n",
    "results[\"seed_size\"] = results[\"seed_size\"].astype(int)\n",
    "results[\"active_batch_size\"] = results[\"active_batch_size\"].astype(int)\n"
   ]
  },
  {
   "cell_type": "code",
   "execution_count": 5,
   "metadata": {},
   "outputs": [],
   "source": [
    "def plot_against_base(base_chart: alt.Chart):\n",
    "    scatter = base.mark_boxplot().encode(\n",
    "        y=alt.Y(\"final_accuracy:Q\", scale=exclude_zero_point, title=\"Accuracy\"),\n",
    "        # color=\"acquisition_function:N\"\n",
    "    ) \n",
    "    line = base.mark_line().encode(\n",
    "        y=alt.Y(\"mean(final_accuracy):Q\", scale=exclude_zero_point, title=\"Mean accuracy\"),\n",
    "    )\n",
    "    return (scatter + line).facet(column=\"acquisition_function:N\")"
   ]
  },
  {
   "cell_type": "code",
   "execution_count": 6,
   "metadata": {},
   "outputs": [
    {
     "output_type": "execute_result",
     "data": {
      "text/html": "\n<div id=\"altair-viz-cc0fac67d0c54b6da44e24dbd9248548\"></div>\n<script type=\"text/javascript\">\n  (function(spec, embedOpt){\n    let outputDiv = document.currentScript.previousElementSibling;\n    if (outputDiv.id !== \"altair-viz-cc0fac67d0c54b6da44e24dbd9248548\") {\n      outputDiv = document.getElementById(\"altair-viz-cc0fac67d0c54b6da44e24dbd9248548\");\n    }\n    const paths = {\n      \"vega\": \"https://cdn.jsdelivr.net/npm//vega@5?noext\",\n      \"vega-lib\": \"https://cdn.jsdelivr.net/npm//vega-lib?noext\",\n      \"vega-lite\": \"https://cdn.jsdelivr.net/npm//vega-lite@4.8.1?noext\",\n      \"vega-embed\": \"https://cdn.jsdelivr.net/npm//vega-embed@6?noext\",\n    };\n\n    function loadScript(lib) {\n      return new Promise(function(resolve, reject) {\n        var s = document.createElement('script');\n        s.src = paths[lib];\n        s.async = true;\n        s.onload = () => resolve(paths[lib]);\n        s.onerror = () => reject(`Error loading script: ${paths[lib]}`);\n        document.getElementsByTagName(\"head\")[0].appendChild(s);\n      });\n    }\n\n    function showError(err) {\n      outputDiv.innerHTML = `<div class=\"error\" style=\"color:red;\">${err}</div>`;\n      throw err;\n    }\n\n    function displayChart(vegaEmbed) {\n      vegaEmbed(outputDiv, spec, embedOpt)\n        .catch(err => showError(`Javascript Error: ${err.message}<br>This usually means there's a typo in your chart specification. See the javascript console for the full traceback.`));\n    }\n\n    if(typeof define === \"function\" && define.amd) {\n      requirejs.config({paths});\n      require([\"vega-embed\"], displayChart, err => showError(`Error loading script: ${err.message}`));\n    } else if (typeof vegaEmbed === \"function\") {\n      displayChart(vegaEmbed);\n    } else {\n      loadScript(\"vega\")\n        .then(() => loadScript(\"vega-lite\"))\n        .then(() => loadScript(\"vega-embed\"))\n        .catch(showError)\n        .then(() => displayChart(vegaEmbed));\n    }\n  })({\"config\": {\"view\": {\"continuousWidth\": 400, \"continuousHeight\": 300}}, \"data\": {\"name\": \"data-3e2e0ef160735be2d1604ebf41be07fb\"}, \"facet\": {\"column\": {\"type\": \"nominal\", \"field\": \"acquisition_function\"}}, \"spec\": {\"layer\": [{\"mark\": \"boxplot\", \"encoding\": {\"x\": {\"type\": \"quantitative\", \"field\": \"seed_size\", \"scale\": {\"zero\": false}, \"title\": \"Seed dataset size\"}, \"y\": {\"type\": \"quantitative\", \"field\": \"final_accuracy\", \"scale\": {\"zero\": false}, \"title\": \"Accuracy\"}}}, {\"mark\": \"line\", \"encoding\": {\"x\": {\"type\": \"quantitative\", \"field\": \"seed_size\", \"scale\": {\"zero\": false}, \"title\": \"Seed dataset size\"}, \"y\": {\"type\": \"quantitative\", \"aggregate\": \"mean\", \"field\": \"final_accuracy\", \"scale\": {\"zero\": false}, \"title\": \"Mean accuracy\"}}}]}, \"$schema\": \"https://vega.github.io/schema/vega-lite/v4.8.1.json\", \"datasets\": {\"data-3e2e0ef160735be2d1604ebf41be07fb\": [{\"acquisition_function\": \"entropy_score\", \"seed_size\": 10000, \"active_batch_size\": 10, \"accuracy\": [0.4891666666666667, 0.5101388888888889, 0.49694444444444447, 0.5073611111111112, 0.5347222222222222, 0.5411111111111111, 0.5575, 0.56], \"final_accuracy\": 0.56}, {\"acquisition_function\": \"entropy_score\", \"seed_size\": 10000, \"active_batch_size\": 25, \"accuracy\": [0.5066666666666667, 0.49444444444444446, 0.5072222222222222, 0.4955555555555556, 0.5136111111111111, 0.54625, 0.5106944444444445, 0.5391666666666667], \"final_accuracy\": 0.5391666666666667}, {\"acquisition_function\": \"entropy_score\", \"seed_size\": 10000, \"active_batch_size\": 50, \"accuracy\": [0.5051388888888889, 0.5134722222222222, 0.5127777777777778, 0.50875, 0.5527777777777778, 0.5569444444444445, 0.5583333333333333, 0.5688888888888889], \"final_accuracy\": 0.5688888888888889}, {\"acquisition_function\": \"entropy_score\", \"seed_size\": 15000, \"active_batch_size\": 10, \"accuracy\": [0.5108333333333334, 0.5104166666666666, 0.5030555555555556, 0.5358333333333334, 0.5202777777777777, 0.55875, 0.5566666666666666, 0.5791666666666667], \"final_accuracy\": 0.5791666666666667}, {\"acquisition_function\": \"entropy_score\", \"seed_size\": 15000, \"active_batch_size\": 25, \"accuracy\": [0.49416666666666664, 0.4948611111111111, 0.5065277777777778, 0.5120833333333333, 0.5095833333333334, 0.5098611111111111, 0.5552777777777778, 0.5261111111111111], \"final_accuracy\": 0.5261111111111111}, {\"acquisition_function\": \"entropy_score\", \"seed_size\": 15000, \"active_batch_size\": 50, \"accuracy\": [0.5090277777777777, 0.49916666666666665, 0.5091666666666667, 0.5498611111111111, 0.5558333333333333, 0.5751388888888889, 0.5779166666666666, 0.6008333333333333], \"final_accuracy\": 0.6008333333333333}, {\"acquisition_function\": \"entropy_score\", \"seed_size\": 20000, \"active_batch_size\": 10, \"accuracy\": [0.49125, 0.505, 0.5215277777777778, 0.5369444444444444, 0.5377777777777778, 0.5326388888888889, 0.5795833333333333, 0.5729166666666666], \"final_accuracy\": 0.5729166666666666}, {\"acquisition_function\": \"entropy_score\", \"seed_size\": 20000, \"active_batch_size\": 25, \"accuracy\": [0.4976388888888889, 0.5126388888888889, 0.5325, 0.5334722222222222, 0.5894444444444444, 0.6079166666666667, 0.63375, 0.6404166666666666], \"final_accuracy\": 0.6404166666666666}, {\"acquisition_function\": \"entropy_score\", \"seed_size\": 20000, \"active_batch_size\": 50, \"accuracy\": [0.5070833333333333, 0.5145833333333333, 0.5576388888888889, 0.5572222222222222, 0.5969444444444445, 0.5998611111111111, 0.6429166666666667, 0.6486111111111111], \"final_accuracy\": 0.6486111111111111}, {\"acquisition_function\": \"entropy_score\", \"seed_size\": 5000, \"active_batch_size\": 10, \"accuracy\": [0.49472222222222223, 0.5045833333333334, 0.49930555555555556, 0.4955555555555556, 0.5030555555555556, 0.49680555555555556, 0.4976388888888889, 0.5084722222222222], \"final_accuracy\": 0.5084722222222222}, {\"acquisition_function\": \"entropy_score\", \"seed_size\": 5000, \"active_batch_size\": 25, \"accuracy\": [0.4951388888888889, 0.49805555555555553, 0.4951388888888889, 0.49805555555555553, 0.5015277777777778, 0.49722222222222223, 0.5034722222222222, 0.5079166666666667], \"final_accuracy\": 0.5079166666666667}, {\"acquisition_function\": \"entropy_score\", \"seed_size\": 5000, \"active_batch_size\": 50, \"accuracy\": [0.4951388888888889, 0.5002777777777778, 0.4973611111111111, 0.4945833333333333, 0.5011111111111111, 0.5044444444444445, 0.49375, 0.4926388888888889], \"final_accuracy\": 0.4926388888888889}, {\"acquisition_function\": \"least_confidence\", \"seed_size\": 10000, \"active_batch_size\": 10, \"accuracy\": [0.5023611111111111, 0.49333333333333335, 0.5048611111111111, 0.5043055555555556, 0.5094444444444445, 0.5375, 0.5534722222222223, 0.5290277777777778], \"final_accuracy\": 0.5290277777777778}, {\"acquisition_function\": \"least_confidence\", \"seed_size\": 10000, \"active_batch_size\": 25, \"accuracy\": [0.49930555555555556, 0.49291666666666667, 0.5075, 0.49333333333333335, 0.505, 0.5131944444444444, 0.5404166666666667, 0.5675], \"final_accuracy\": 0.5675}, {\"acquisition_function\": \"least_confidence\", \"seed_size\": 10000, \"active_batch_size\": 50, \"accuracy\": [0.4955555555555556, 0.4926388888888889, 0.5226388888888889, 0.4955555555555556, 0.5336111111111111, 0.5509722222222222, 0.5456944444444445, 0.5563888888888889], \"final_accuracy\": 0.5563888888888889}, {\"acquisition_function\": \"least_confidence\", \"seed_size\": 15000, \"active_batch_size\": 10, \"accuracy\": [0.5019444444444444, 0.5090277777777777, 0.5079166666666667, 0.5306944444444445, 0.5143055555555556, 0.5222222222222223, 0.5145833333333333, 0.5479166666666667], \"final_accuracy\": 0.5479166666666667}, {\"acquisition_function\": \"least_confidence\", \"seed_size\": 15000, \"active_batch_size\": 25, \"accuracy\": [0.49694444444444447, 0.4925, 0.4990277777777778, 0.5294444444444445, 0.5652777777777778, 0.5879166666666666, 0.6123611111111111, 0.6119444444444444], \"final_accuracy\": 0.6119444444444444}, {\"acquisition_function\": \"least_confidence\", \"seed_size\": 15000, \"active_batch_size\": 50, \"accuracy\": [0.5038888888888889, 0.50875, 0.5193055555555556, 0.49694444444444447, 0.5106944444444445, 0.5405555555555556, 0.5802777777777778, 0.59625], \"final_accuracy\": 0.59625}, {\"acquisition_function\": \"least_confidence\", \"seed_size\": 20000, \"active_batch_size\": 10, \"accuracy\": [0.5044444444444445, 0.5155555555555555, 0.5384722222222222, 0.5354166666666667, 0.5731944444444445, 0.6015277777777778, 0.6048611111111111, 0.6398611111111111], \"final_accuracy\": 0.6398611111111111}, {\"acquisition_function\": \"least_confidence\", \"seed_size\": 20000, \"active_batch_size\": 25, \"accuracy\": [0.5058333333333334, 0.52625, 0.5726388888888889, 0.56125, 0.5686111111111111, 0.57125, 0.5881944444444445, 0.5933333333333334], \"final_accuracy\": 0.5933333333333334}, {\"acquisition_function\": \"least_confidence\", \"seed_size\": 20000, \"active_batch_size\": 50, \"accuracy\": [0.49194444444444446, 0.5133333333333333, 0.5779166666666666, 0.59125, 0.5926388888888889, 0.6088888888888889, 0.6152777777777778, 0.665], \"final_accuracy\": 0.665}, {\"acquisition_function\": \"least_confidence\", \"seed_size\": 5000, \"active_batch_size\": 10, \"accuracy\": [0.49583333333333335, 0.48777777777777775, 0.4913888888888889, 0.5045833333333334, 0.5127777777777778, 0.51875, 0.4976388888888889, 0.5226388888888889], \"final_accuracy\": 0.5226388888888889}, {\"acquisition_function\": \"least_confidence\", \"seed_size\": 5000, \"active_batch_size\": 25, \"accuracy\": [0.48791666666666667, 0.4934722222222222, 0.5022222222222222, 0.49430555555555555, 0.5072222222222222, 0.5116666666666667, 0.5168055555555555, 0.5044444444444445], \"final_accuracy\": 0.5044444444444445}, {\"acquisition_function\": \"least_confidence\", \"seed_size\": 5000, \"active_batch_size\": 50, \"accuracy\": [0.49930555555555556, 0.5026388888888889, 0.5018055555555555, 0.5001388888888889, 0.5048611111111111, 0.4984722222222222, 0.5045833333333334, 0.5180555555555556], \"final_accuracy\": 0.5180555555555556}, {\"acquisition_function\": \"random_score\", \"seed_size\": 10000, \"active_batch_size\": 10, \"accuracy\": [0.49125, 0.5116666666666667, 0.4901388888888889, 0.49833333333333335, 0.5020833333333333, 0.56875, 0.5163888888888889, 0.5811111111111111], \"final_accuracy\": 0.5811111111111111}, {\"acquisition_function\": \"random_score\", \"seed_size\": 10000, \"active_batch_size\": 25, \"accuracy\": [0.4948611111111111, 0.5013888888888889, 0.5030555555555556, 0.4998611111111111, 0.5566666666666666, 0.5558333333333333, 0.5705555555555556, 0.6040277777777778], \"final_accuracy\": 0.6040277777777778}, {\"acquisition_function\": \"random_score\", \"seed_size\": 10000, \"active_batch_size\": 50, \"accuracy\": [0.5016666666666667, 0.4897222222222222, 0.5102777777777778, 0.5023611111111111, 0.5163888888888889, 0.53125, 0.52875, 0.5508333333333333], \"final_accuracy\": 0.5508333333333333}, {\"acquisition_function\": \"random_score\", \"seed_size\": 15000, \"active_batch_size\": 10, \"accuracy\": [0.5090277777777777, 0.5044444444444445, 0.5119444444444444, 0.5119444444444444, 0.5318055555555555, 0.5397222222222222, 0.5359722222222222, 0.5227777777777778], \"final_accuracy\": 0.5227777777777778}, {\"acquisition_function\": \"random_score\", \"seed_size\": 15000, \"active_batch_size\": 25, \"accuracy\": [0.5086111111111111, 0.5020833333333333, 0.5190277777777778, 0.5475, 0.5658333333333333, 0.5476388888888889, 0.5397222222222222, 0.5570833333333334], \"final_accuracy\": 0.5570833333333334}, {\"acquisition_function\": \"random_score\", \"seed_size\": 15000, \"active_batch_size\": 50, \"accuracy\": [0.5073611111111112, 0.5120833333333333, 0.4973611111111111, 0.525, 0.535, 0.5643055555555555, 0.5563888888888889, 0.6043055555555555], \"final_accuracy\": 0.6043055555555555}, {\"acquisition_function\": \"random_score\", \"seed_size\": 20000, \"active_batch_size\": 10, \"accuracy\": [0.49277777777777776, 0.5166666666666667, 0.5304166666666666, 0.5223611111111112, 0.5322222222222223, 0.5423611111111111, 0.5531944444444444, 0.5702777777777778], \"final_accuracy\": 0.5702777777777778}, {\"acquisition_function\": \"random_score\", \"seed_size\": 20000, \"active_batch_size\": 25, \"accuracy\": [0.50875, 0.5070833333333333, 0.5243055555555556, 0.5320833333333334, 0.5413888888888889, 0.5338888888888889, 0.5465277777777777, 0.6073611111111111], \"final_accuracy\": 0.6073611111111111}, {\"acquisition_function\": \"random_score\", \"seed_size\": 20000, \"active_batch_size\": 50, \"accuracy\": [0.5027777777777778, 0.5175, 0.5394444444444444, 0.5238888888888888, 0.515, 0.5288888888888889, 0.5423611111111111, 0.5277777777777778], \"final_accuracy\": 0.5277777777777778}, {\"acquisition_function\": \"random_score\", \"seed_size\": 5000, \"active_batch_size\": 10, \"accuracy\": [0.5102777777777778, 0.4951388888888889, 0.4951388888888889, 0.5054166666666666, 0.49680555555555556, 0.4984722222222222, 0.505, 0.5215277777777778], \"final_accuracy\": 0.5215277777777778}, {\"acquisition_function\": \"random_score\", \"seed_size\": 5000, \"active_batch_size\": 25, \"accuracy\": [0.50125, 0.5066666666666667, 0.49972222222222223, 0.5015277777777778, 0.5091666666666667, 0.5222222222222223, 0.5393055555555556, 0.55875], \"final_accuracy\": 0.55875}, {\"acquisition_function\": \"random_score\", \"seed_size\": 5000, \"active_batch_size\": 50, \"accuracy\": [0.5108333333333334, 0.4955555555555556, 0.4926388888888889, 0.49875, 0.4959722222222222, 0.5070833333333333, 0.5058333333333334, 0.5063888888888889], \"final_accuracy\": 0.5063888888888889}]}}, {\"mode\": \"vega-lite\"});\n</script>",
      "text/plain": [
       "alt.FacetChart(...)"
      ]
     },
     "metadata": {},
     "execution_count": 6
    }
   ],
   "source": [
    "# All else equal, what is the relationship between seed size and accuracy?\n",
    "exclude_zero_point = alt.Scale(zero=False)\n",
    "\n",
    "base = alt.Chart(results).encode(\n",
    "    x=alt.X(\"seed_size:Q\", scale=exclude_zero_point, title=\"Seed dataset size\"),\n",
    "    \n",
    ")\n",
    "plot_against_base(base)\n",
    "# regression = base.encode(\n",
    "#     y=alt.Y(\"mean(final_accuracy):Q\", scale=exclude_zero_point)\n",
    "# ).transform_regression(\n",
    "#     'seed_size', \n",
    "#     'final_accuracy', \n",
    "#     groupby=['acquisition_function'],\n",
    "#     extent=[results['seed_size'].min() - 1000, results['seed_size'].max() + 1000]\n",
    "# ).mark_line(\n",
    "#     color=\"orange\", \n",
    "#     strokeDash=[3,3],\n",
    "# )\n",
    "\n",
    "\n"
   ]
  },
  {
   "source": [
    "- Actual acquisition functions show a strong positive correlation b/w seed dataset size and accuracy. This makes sense because we expect more data to improve performance.\n",
    "- This effect is much less strong in the random score function. *why?*"
   ],
   "cell_type": "markdown",
   "metadata": {}
  },
  {
   "cell_type": "code",
   "execution_count": 8,
   "metadata": {},
   "outputs": [
    {
     "output_type": "execute_result",
     "data": {
      "text/html": "\n<div id=\"altair-viz-d1cc0e2496304417a29c0a4d633f2559\"></div>\n<script type=\"text/javascript\">\n  (function(spec, embedOpt){\n    let outputDiv = document.currentScript.previousElementSibling;\n    if (outputDiv.id !== \"altair-viz-d1cc0e2496304417a29c0a4d633f2559\") {\n      outputDiv = document.getElementById(\"altair-viz-d1cc0e2496304417a29c0a4d633f2559\");\n    }\n    const paths = {\n      \"vega\": \"https://cdn.jsdelivr.net/npm//vega@5?noext\",\n      \"vega-lib\": \"https://cdn.jsdelivr.net/npm//vega-lib?noext\",\n      \"vega-lite\": \"https://cdn.jsdelivr.net/npm//vega-lite@4.8.1?noext\",\n      \"vega-embed\": \"https://cdn.jsdelivr.net/npm//vega-embed@6?noext\",\n    };\n\n    function loadScript(lib) {\n      return new Promise(function(resolve, reject) {\n        var s = document.createElement('script');\n        s.src = paths[lib];\n        s.async = true;\n        s.onload = () => resolve(paths[lib]);\n        s.onerror = () => reject(`Error loading script: ${paths[lib]}`);\n        document.getElementsByTagName(\"head\")[0].appendChild(s);\n      });\n    }\n\n    function showError(err) {\n      outputDiv.innerHTML = `<div class=\"error\" style=\"color:red;\">${err}</div>`;\n      throw err;\n    }\n\n    function displayChart(vegaEmbed) {\n      vegaEmbed(outputDiv, spec, embedOpt)\n        .catch(err => showError(`Javascript Error: ${err.message}<br>This usually means there's a typo in your chart specification. See the javascript console for the full traceback.`));\n    }\n\n    if(typeof define === \"function\" && define.amd) {\n      requirejs.config({paths});\n      require([\"vega-embed\"], displayChart, err => showError(`Error loading script: ${err.message}`));\n    } else if (typeof vegaEmbed === \"function\") {\n      displayChart(vegaEmbed);\n    } else {\n      loadScript(\"vega\")\n        .then(() => loadScript(\"vega-lite\"))\n        .then(() => loadScript(\"vega-embed\"))\n        .catch(showError)\n        .then(() => displayChart(vegaEmbed));\n    }\n  })({\"config\": {\"view\": {\"continuousWidth\": 400, \"continuousHeight\": 300}}, \"data\": {\"name\": \"data-3e2e0ef160735be2d1604ebf41be07fb\"}, \"facet\": {\"column\": {\"type\": \"nominal\", \"field\": \"acquisition_function\"}}, \"spec\": {\"layer\": [{\"mark\": \"boxplot\", \"encoding\": {\"x\": {\"type\": \"quantitative\", \"field\": \"active_batch_size\", \"scale\": {\"zero\": false}, \"title\": \"Active learning batch size\"}, \"y\": {\"type\": \"quantitative\", \"field\": \"final_accuracy\", \"scale\": {\"zero\": false}, \"title\": \"Accuracy\"}}}, {\"mark\": \"line\", \"encoding\": {\"x\": {\"type\": \"quantitative\", \"field\": \"active_batch_size\", \"scale\": {\"zero\": false}, \"title\": \"Active learning batch size\"}, \"y\": {\"type\": \"quantitative\", \"aggregate\": \"mean\", \"field\": \"final_accuracy\", \"scale\": {\"zero\": false}, \"title\": \"Mean accuracy\"}}}]}, \"$schema\": \"https://vega.github.io/schema/vega-lite/v4.8.1.json\", \"datasets\": {\"data-3e2e0ef160735be2d1604ebf41be07fb\": [{\"acquisition_function\": \"entropy_score\", \"seed_size\": 10000, \"active_batch_size\": 10, \"accuracy\": [0.4891666666666667, 0.5101388888888889, 0.49694444444444447, 0.5073611111111112, 0.5347222222222222, 0.5411111111111111, 0.5575, 0.56], \"final_accuracy\": 0.56}, {\"acquisition_function\": \"entropy_score\", \"seed_size\": 10000, \"active_batch_size\": 25, \"accuracy\": [0.5066666666666667, 0.49444444444444446, 0.5072222222222222, 0.4955555555555556, 0.5136111111111111, 0.54625, 0.5106944444444445, 0.5391666666666667], \"final_accuracy\": 0.5391666666666667}, {\"acquisition_function\": \"entropy_score\", \"seed_size\": 10000, \"active_batch_size\": 50, \"accuracy\": [0.5051388888888889, 0.5134722222222222, 0.5127777777777778, 0.50875, 0.5527777777777778, 0.5569444444444445, 0.5583333333333333, 0.5688888888888889], \"final_accuracy\": 0.5688888888888889}, {\"acquisition_function\": \"entropy_score\", \"seed_size\": 15000, \"active_batch_size\": 10, \"accuracy\": [0.5108333333333334, 0.5104166666666666, 0.5030555555555556, 0.5358333333333334, 0.5202777777777777, 0.55875, 0.5566666666666666, 0.5791666666666667], \"final_accuracy\": 0.5791666666666667}, {\"acquisition_function\": \"entropy_score\", \"seed_size\": 15000, \"active_batch_size\": 25, \"accuracy\": [0.49416666666666664, 0.4948611111111111, 0.5065277777777778, 0.5120833333333333, 0.5095833333333334, 0.5098611111111111, 0.5552777777777778, 0.5261111111111111], \"final_accuracy\": 0.5261111111111111}, {\"acquisition_function\": \"entropy_score\", \"seed_size\": 15000, \"active_batch_size\": 50, \"accuracy\": [0.5090277777777777, 0.49916666666666665, 0.5091666666666667, 0.5498611111111111, 0.5558333333333333, 0.5751388888888889, 0.5779166666666666, 0.6008333333333333], \"final_accuracy\": 0.6008333333333333}, {\"acquisition_function\": \"entropy_score\", \"seed_size\": 20000, \"active_batch_size\": 10, \"accuracy\": [0.49125, 0.505, 0.5215277777777778, 0.5369444444444444, 0.5377777777777778, 0.5326388888888889, 0.5795833333333333, 0.5729166666666666], \"final_accuracy\": 0.5729166666666666}, {\"acquisition_function\": \"entropy_score\", \"seed_size\": 20000, \"active_batch_size\": 25, \"accuracy\": [0.4976388888888889, 0.5126388888888889, 0.5325, 0.5334722222222222, 0.5894444444444444, 0.6079166666666667, 0.63375, 0.6404166666666666], \"final_accuracy\": 0.6404166666666666}, {\"acquisition_function\": \"entropy_score\", \"seed_size\": 20000, \"active_batch_size\": 50, \"accuracy\": [0.5070833333333333, 0.5145833333333333, 0.5576388888888889, 0.5572222222222222, 0.5969444444444445, 0.5998611111111111, 0.6429166666666667, 0.6486111111111111], \"final_accuracy\": 0.6486111111111111}, {\"acquisition_function\": \"entropy_score\", \"seed_size\": 5000, \"active_batch_size\": 10, \"accuracy\": [0.49472222222222223, 0.5045833333333334, 0.49930555555555556, 0.4955555555555556, 0.5030555555555556, 0.49680555555555556, 0.4976388888888889, 0.5084722222222222], \"final_accuracy\": 0.5084722222222222}, {\"acquisition_function\": \"entropy_score\", \"seed_size\": 5000, \"active_batch_size\": 25, \"accuracy\": [0.4951388888888889, 0.49805555555555553, 0.4951388888888889, 0.49805555555555553, 0.5015277777777778, 0.49722222222222223, 0.5034722222222222, 0.5079166666666667], \"final_accuracy\": 0.5079166666666667}, {\"acquisition_function\": \"entropy_score\", \"seed_size\": 5000, \"active_batch_size\": 50, \"accuracy\": [0.4951388888888889, 0.5002777777777778, 0.4973611111111111, 0.4945833333333333, 0.5011111111111111, 0.5044444444444445, 0.49375, 0.4926388888888889], \"final_accuracy\": 0.4926388888888889}, {\"acquisition_function\": \"least_confidence\", \"seed_size\": 10000, \"active_batch_size\": 10, \"accuracy\": [0.5023611111111111, 0.49333333333333335, 0.5048611111111111, 0.5043055555555556, 0.5094444444444445, 0.5375, 0.5534722222222223, 0.5290277777777778], \"final_accuracy\": 0.5290277777777778}, {\"acquisition_function\": \"least_confidence\", \"seed_size\": 10000, \"active_batch_size\": 25, \"accuracy\": [0.49930555555555556, 0.49291666666666667, 0.5075, 0.49333333333333335, 0.505, 0.5131944444444444, 0.5404166666666667, 0.5675], \"final_accuracy\": 0.5675}, {\"acquisition_function\": \"least_confidence\", \"seed_size\": 10000, \"active_batch_size\": 50, \"accuracy\": [0.4955555555555556, 0.4926388888888889, 0.5226388888888889, 0.4955555555555556, 0.5336111111111111, 0.5509722222222222, 0.5456944444444445, 0.5563888888888889], \"final_accuracy\": 0.5563888888888889}, {\"acquisition_function\": \"least_confidence\", \"seed_size\": 15000, \"active_batch_size\": 10, \"accuracy\": [0.5019444444444444, 0.5090277777777777, 0.5079166666666667, 0.5306944444444445, 0.5143055555555556, 0.5222222222222223, 0.5145833333333333, 0.5479166666666667], \"final_accuracy\": 0.5479166666666667}, {\"acquisition_function\": \"least_confidence\", \"seed_size\": 15000, \"active_batch_size\": 25, \"accuracy\": [0.49694444444444447, 0.4925, 0.4990277777777778, 0.5294444444444445, 0.5652777777777778, 0.5879166666666666, 0.6123611111111111, 0.6119444444444444], \"final_accuracy\": 0.6119444444444444}, {\"acquisition_function\": \"least_confidence\", \"seed_size\": 15000, \"active_batch_size\": 50, \"accuracy\": [0.5038888888888889, 0.50875, 0.5193055555555556, 0.49694444444444447, 0.5106944444444445, 0.5405555555555556, 0.5802777777777778, 0.59625], \"final_accuracy\": 0.59625}, {\"acquisition_function\": \"least_confidence\", \"seed_size\": 20000, \"active_batch_size\": 10, \"accuracy\": [0.5044444444444445, 0.5155555555555555, 0.5384722222222222, 0.5354166666666667, 0.5731944444444445, 0.6015277777777778, 0.6048611111111111, 0.6398611111111111], \"final_accuracy\": 0.6398611111111111}, {\"acquisition_function\": \"least_confidence\", \"seed_size\": 20000, \"active_batch_size\": 25, \"accuracy\": [0.5058333333333334, 0.52625, 0.5726388888888889, 0.56125, 0.5686111111111111, 0.57125, 0.5881944444444445, 0.5933333333333334], \"final_accuracy\": 0.5933333333333334}, {\"acquisition_function\": \"least_confidence\", \"seed_size\": 20000, \"active_batch_size\": 50, \"accuracy\": [0.49194444444444446, 0.5133333333333333, 0.5779166666666666, 0.59125, 0.5926388888888889, 0.6088888888888889, 0.6152777777777778, 0.665], \"final_accuracy\": 0.665}, {\"acquisition_function\": \"least_confidence\", \"seed_size\": 5000, \"active_batch_size\": 10, \"accuracy\": [0.49583333333333335, 0.48777777777777775, 0.4913888888888889, 0.5045833333333334, 0.5127777777777778, 0.51875, 0.4976388888888889, 0.5226388888888889], \"final_accuracy\": 0.5226388888888889}, {\"acquisition_function\": \"least_confidence\", \"seed_size\": 5000, \"active_batch_size\": 25, \"accuracy\": [0.48791666666666667, 0.4934722222222222, 0.5022222222222222, 0.49430555555555555, 0.5072222222222222, 0.5116666666666667, 0.5168055555555555, 0.5044444444444445], \"final_accuracy\": 0.5044444444444445}, {\"acquisition_function\": \"least_confidence\", \"seed_size\": 5000, \"active_batch_size\": 50, \"accuracy\": [0.49930555555555556, 0.5026388888888889, 0.5018055555555555, 0.5001388888888889, 0.5048611111111111, 0.4984722222222222, 0.5045833333333334, 0.5180555555555556], \"final_accuracy\": 0.5180555555555556}, {\"acquisition_function\": \"random_score\", \"seed_size\": 10000, \"active_batch_size\": 10, \"accuracy\": [0.49125, 0.5116666666666667, 0.4901388888888889, 0.49833333333333335, 0.5020833333333333, 0.56875, 0.5163888888888889, 0.5811111111111111], \"final_accuracy\": 0.5811111111111111}, {\"acquisition_function\": \"random_score\", \"seed_size\": 10000, \"active_batch_size\": 25, \"accuracy\": [0.4948611111111111, 0.5013888888888889, 0.5030555555555556, 0.4998611111111111, 0.5566666666666666, 0.5558333333333333, 0.5705555555555556, 0.6040277777777778], \"final_accuracy\": 0.6040277777777778}, {\"acquisition_function\": \"random_score\", \"seed_size\": 10000, \"active_batch_size\": 50, \"accuracy\": [0.5016666666666667, 0.4897222222222222, 0.5102777777777778, 0.5023611111111111, 0.5163888888888889, 0.53125, 0.52875, 0.5508333333333333], \"final_accuracy\": 0.5508333333333333}, {\"acquisition_function\": \"random_score\", \"seed_size\": 15000, \"active_batch_size\": 10, \"accuracy\": [0.5090277777777777, 0.5044444444444445, 0.5119444444444444, 0.5119444444444444, 0.5318055555555555, 0.5397222222222222, 0.5359722222222222, 0.5227777777777778], \"final_accuracy\": 0.5227777777777778}, {\"acquisition_function\": \"random_score\", \"seed_size\": 15000, \"active_batch_size\": 25, \"accuracy\": [0.5086111111111111, 0.5020833333333333, 0.5190277777777778, 0.5475, 0.5658333333333333, 0.5476388888888889, 0.5397222222222222, 0.5570833333333334], \"final_accuracy\": 0.5570833333333334}, {\"acquisition_function\": \"random_score\", \"seed_size\": 15000, \"active_batch_size\": 50, \"accuracy\": [0.5073611111111112, 0.5120833333333333, 0.4973611111111111, 0.525, 0.535, 0.5643055555555555, 0.5563888888888889, 0.6043055555555555], \"final_accuracy\": 0.6043055555555555}, {\"acquisition_function\": \"random_score\", \"seed_size\": 20000, \"active_batch_size\": 10, \"accuracy\": [0.49277777777777776, 0.5166666666666667, 0.5304166666666666, 0.5223611111111112, 0.5322222222222223, 0.5423611111111111, 0.5531944444444444, 0.5702777777777778], \"final_accuracy\": 0.5702777777777778}, {\"acquisition_function\": \"random_score\", \"seed_size\": 20000, \"active_batch_size\": 25, \"accuracy\": [0.50875, 0.5070833333333333, 0.5243055555555556, 0.5320833333333334, 0.5413888888888889, 0.5338888888888889, 0.5465277777777777, 0.6073611111111111], \"final_accuracy\": 0.6073611111111111}, {\"acquisition_function\": \"random_score\", \"seed_size\": 20000, \"active_batch_size\": 50, \"accuracy\": [0.5027777777777778, 0.5175, 0.5394444444444444, 0.5238888888888888, 0.515, 0.5288888888888889, 0.5423611111111111, 0.5277777777777778], \"final_accuracy\": 0.5277777777777778}, {\"acquisition_function\": \"random_score\", \"seed_size\": 5000, \"active_batch_size\": 10, \"accuracy\": [0.5102777777777778, 0.4951388888888889, 0.4951388888888889, 0.5054166666666666, 0.49680555555555556, 0.4984722222222222, 0.505, 0.5215277777777778], \"final_accuracy\": 0.5215277777777778}, {\"acquisition_function\": \"random_score\", \"seed_size\": 5000, \"active_batch_size\": 25, \"accuracy\": [0.50125, 0.5066666666666667, 0.49972222222222223, 0.5015277777777778, 0.5091666666666667, 0.5222222222222223, 0.5393055555555556, 0.55875], \"final_accuracy\": 0.55875}, {\"acquisition_function\": \"random_score\", \"seed_size\": 5000, \"active_batch_size\": 50, \"accuracy\": [0.5108333333333334, 0.4955555555555556, 0.4926388888888889, 0.49875, 0.4959722222222222, 0.5070833333333333, 0.5058333333333334, 0.5063888888888889], \"final_accuracy\": 0.5063888888888889}]}}, {\"mode\": \"vega-lite\"});\n</script>",
      "text/plain": [
       "alt.FacetChart(...)"
      ]
     },
     "metadata": {},
     "execution_count": 8
    }
   ],
   "source": [
    "# All else equal, what is the relationship between active learning batch size and accuracy?\n",
    "base = alt.Chart(results).encode(\n",
    "    x=alt.X(\"active_batch_size:Q\", scale=exclude_zero_point, title=\"Active learning batch size\"),   \n",
    ")\n",
    "\n",
    "plot_against_base(base)"
   ]
  },
  {
   "source": [
    "- Relationship seems much weaker overall\n",
    "- if the relationship is significantly stronger for the actual functions than for the random function, that means our choice of functions is actually helping"
   ],
   "cell_type": "markdown",
   "metadata": {}
  },
  {
   "cell_type": "code",
   "execution_count": 12,
   "metadata": {},
   "outputs": [
    {
     "output_type": "execute_result",
     "data": {
      "text/plain": [
       "                                        seed_size  active_batch_size  \\\n",
       "acquisition_function                                                   \n",
       "entropy_score        seed_size           1.000000           0.000000   \n",
       "                     active_batch_size   0.000000           1.000000   \n",
       "                     final_accuracy      0.845683           0.207130   \n",
       "least_confidence     seed_size           1.000000           0.000000   \n",
       "                     active_batch_size   0.000000           1.000000   \n",
       "                     final_accuracy      0.889154           0.203143   \n",
       "random_score         seed_size           1.000000           0.000000   \n",
       "                     active_batch_size   0.000000           1.000000   \n",
       "                     final_accuracy      0.337486          -0.086663   \n",
       "\n",
       "                                        final_accuracy  \n",
       "acquisition_function                                    \n",
       "entropy_score        seed_size                0.845683  \n",
       "                     active_batch_size        0.207130  \n",
       "                     final_accuracy           1.000000  \n",
       "least_confidence     seed_size                0.889154  \n",
       "                     active_batch_size        0.203143  \n",
       "                     final_accuracy           1.000000  \n",
       "random_score         seed_size                0.337486  \n",
       "                     active_batch_size       -0.086663  \n",
       "                     final_accuracy           1.000000  "
      ],
      "text/html": "<div>\n<style scoped>\n    .dataframe tbody tr th:only-of-type {\n        vertical-align: middle;\n    }\n\n    .dataframe tbody tr th {\n        vertical-align: top;\n    }\n\n    .dataframe thead th {\n        text-align: right;\n    }\n</style>\n<table border=\"1\" class=\"dataframe\">\n  <thead>\n    <tr style=\"text-align: right;\">\n      <th></th>\n      <th></th>\n      <th>seed_size</th>\n      <th>active_batch_size</th>\n      <th>final_accuracy</th>\n    </tr>\n    <tr>\n      <th>acquisition_function</th>\n      <th></th>\n      <th></th>\n      <th></th>\n      <th></th>\n    </tr>\n  </thead>\n  <tbody>\n    <tr>\n      <th rowspan=\"3\" valign=\"top\">entropy_score</th>\n      <th>seed_size</th>\n      <td>1.000000</td>\n      <td>0.000000</td>\n      <td>0.845683</td>\n    </tr>\n    <tr>\n      <th>active_batch_size</th>\n      <td>0.000000</td>\n      <td>1.000000</td>\n      <td>0.207130</td>\n    </tr>\n    <tr>\n      <th>final_accuracy</th>\n      <td>0.845683</td>\n      <td>0.207130</td>\n      <td>1.000000</td>\n    </tr>\n    <tr>\n      <th rowspan=\"3\" valign=\"top\">least_confidence</th>\n      <th>seed_size</th>\n      <td>1.000000</td>\n      <td>0.000000</td>\n      <td>0.889154</td>\n    </tr>\n    <tr>\n      <th>active_batch_size</th>\n      <td>0.000000</td>\n      <td>1.000000</td>\n      <td>0.203143</td>\n    </tr>\n    <tr>\n      <th>final_accuracy</th>\n      <td>0.889154</td>\n      <td>0.203143</td>\n      <td>1.000000</td>\n    </tr>\n    <tr>\n      <th rowspan=\"3\" valign=\"top\">random_score</th>\n      <th>seed_size</th>\n      <td>1.000000</td>\n      <td>0.000000</td>\n      <td>0.337486</td>\n    </tr>\n    <tr>\n      <th>active_batch_size</th>\n      <td>0.000000</td>\n      <td>1.000000</td>\n      <td>-0.086663</td>\n    </tr>\n    <tr>\n      <th>final_accuracy</th>\n      <td>0.337486</td>\n      <td>-0.086663</td>\n      <td>1.000000</td>\n    </tr>\n  </tbody>\n</table>\n</div>"
     },
     "metadata": {},
     "execution_count": 12
    }
   ],
   "source": [
    "# pearson's R per acquisition function\n",
    "results.groupby(\"acquisition_function\").corr()"
   ]
  }
 ],
 "metadata": {
  "kernelspec": {
   "name": "python377jvsc74a57bd0b37cac4b47d83d5cc115f5f2f88dccffa908a9c0cfc208fe38895c6726f8118a",
   "display_name": "Python 3.7.7 64-bit ('base': conda)"
  },
  "language_info": {
   "codemirror_mode": {
    "name": "ipython",
    "version": 3
   },
   "file_extension": ".py",
   "mimetype": "text/x-python",
   "name": "python",
   "nbconvert_exporter": "python",
   "pygments_lexer": "ipython3",
   "version": "3.7.7"
  }
 },
 "nbformat": 4,
 "nbformat_minor": 4
}